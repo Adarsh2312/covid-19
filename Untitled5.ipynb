{
  "nbformat": 4,
  "nbformat_minor": 0,
  "metadata": {
    "colab": {
      "name": "Untitled5.ipynb",
      "provenance": [],
      "collapsed_sections": []
    },
    "kernelspec": {
      "name": "python3",
      "display_name": "Python 3"
    },
    "language_info": {
      "name": "python"
    }
  },
  "cells": [
    {
      "cell_type": "code",
      "metadata": {
        "id": "DdUq57tYnsK8"
      },
      "source": [
        "import streamlit as st"
      ],
      "execution_count": 80,
      "outputs": []
    },
    {
      "cell_type": "code",
      "metadata": {
        "id": "164a8l0FolET"
      },
      "source": [
        "import pandas as pd\n",
        "import numpy as np\n",
        "import datetime as dt\n",
        "from datetime import datetime,date,time\n",
        "from sklearn.model_selection import train_test_split\n",
        "from sklearn.preprocessing import StandardScaler\n",
        "from sklearn.svm import SVR"
      ],
      "execution_count": 81,
      "outputs": []
    },
    {
      "cell_type": "code",
      "metadata": {
        "id": "lKzUE_3Mpe6w"
      },
      "source": [
        "st.write(\"Covid-19 Cases Prediction for UPCOMING WEEK\")\n",
        "predictdate= st.date_input('Input Date')\n",
        "predictdate=pd.to_datetime(predictdate)\n",
        "predictdate=predictdate.toordinal()"
      ],
      "execution_count": 79,
      "outputs": []
    },
    {
      "cell_type": "code",
      "metadata": {
        "id": "V2dyDRIfqD2Y"
      },
      "source": [
        "df=pd.read_csv('covid-data.csv')"
      ],
      "execution_count": 28,
      "outputs": []
    },
    {
      "cell_type": "code",
      "metadata": {
        "colab": {
          "base_uri": "https://localhost:8080/"
        },
        "id": "pYCWMogKqJc8",
        "outputId": "382f9427-d3f4-45b0-dd73-36a25bcb7b44"
      },
      "source": [
        "df.info()"
      ],
      "execution_count": 29,
      "outputs": [
        {
          "output_type": "stream",
          "name": "stdout",
          "text": [
            "<class 'pandas.core.frame.DataFrame'>\n",
            "RangeIndex: 198 entries, 0 to 197\n",
            "Data columns (total 42 columns):\n",
            " #   Column    Non-Null Count  Dtype \n",
            "---  ------    --------------  ----- \n",
            " 0   Date      198 non-null    object\n",
            " 1   Date_YMD  198 non-null    object\n",
            " 2   Status    198 non-null    object\n",
            " 3   TT        198 non-null    int64 \n",
            " 4   AN        198 non-null    int64 \n",
            " 5   AP        198 non-null    int64 \n",
            " 6   AR        198 non-null    int64 \n",
            " 7   AS        198 non-null    int64 \n",
            " 8   BR        198 non-null    int64 \n",
            " 9   CH        198 non-null    int64 \n",
            " 10  CT        198 non-null    int64 \n",
            " 11  DN        198 non-null    int64 \n",
            " 12  DD        198 non-null    int64 \n",
            " 13  DL        198 non-null    int64 \n",
            " 14  GA        198 non-null    int64 \n",
            " 15  GJ        198 non-null    int64 \n",
            " 16  HR        198 non-null    int64 \n",
            " 17  HP        198 non-null    int64 \n",
            " 18  JK        198 non-null    int64 \n",
            " 19  JH        198 non-null    int64 \n",
            " 20  KA        198 non-null    int64 \n",
            " 21  KL        198 non-null    int64 \n",
            " 22  LA        198 non-null    int64 \n",
            " 23  LD        198 non-null    int64 \n",
            " 24  MP        198 non-null    int64 \n",
            " 25  MH        198 non-null    int64 \n",
            " 26  MN        198 non-null    int64 \n",
            " 27  ML        198 non-null    int64 \n",
            " 28  MZ        198 non-null    int64 \n",
            " 29  NL        198 non-null    int64 \n",
            " 30  OR        198 non-null    int64 \n",
            " 31  PY        198 non-null    int64 \n",
            " 32  PB        198 non-null    int64 \n",
            " 33  RJ        198 non-null    int64 \n",
            " 34  SK        198 non-null    int64 \n",
            " 35  TN        198 non-null    int64 \n",
            " 36  TG        198 non-null    int64 \n",
            " 37  TR        198 non-null    int64 \n",
            " 38  UP        198 non-null    int64 \n",
            " 39  UT        198 non-null    int64 \n",
            " 40  WB        198 non-null    int64 \n",
            " 41  UN        198 non-null    int64 \n",
            "dtypes: int64(39), object(3)\n",
            "memory usage: 65.1+ KB\n"
          ]
        }
      ]
    },
    {
      "cell_type": "code",
      "metadata": {
        "colab": {
          "base_uri": "https://localhost:8080/",
          "height": 391
        },
        "id": "58p6pz_IqNlS",
        "outputId": "f0144c93-c39d-47cf-92f2-e8b1ec631c71"
      },
      "source": [
        "df.tail()"
      ],
      "execution_count": 30,
      "outputs": [
        {
          "output_type": "execute_result",
          "data": {
            "text/html": [
              "<div>\n",
              "<style scoped>\n",
              "    .dataframe tbody tr th:only-of-type {\n",
              "        vertical-align: middle;\n",
              "    }\n",
              "\n",
              "    .dataframe tbody tr th {\n",
              "        vertical-align: top;\n",
              "    }\n",
              "\n",
              "    .dataframe thead th {\n",
              "        text-align: right;\n",
              "    }\n",
              "</style>\n",
              "<table border=\"1\" class=\"dataframe\">\n",
              "  <thead>\n",
              "    <tr style=\"text-align: right;\">\n",
              "      <th></th>\n",
              "      <th>Date</th>\n",
              "      <th>Date_YMD</th>\n",
              "      <th>Status</th>\n",
              "      <th>TT</th>\n",
              "      <th>AN</th>\n",
              "      <th>AP</th>\n",
              "      <th>AR</th>\n",
              "      <th>AS</th>\n",
              "      <th>BR</th>\n",
              "      <th>CH</th>\n",
              "      <th>CT</th>\n",
              "      <th>DN</th>\n",
              "      <th>DD</th>\n",
              "      <th>DL</th>\n",
              "      <th>GA</th>\n",
              "      <th>GJ</th>\n",
              "      <th>HR</th>\n",
              "      <th>HP</th>\n",
              "      <th>JK</th>\n",
              "      <th>JH</th>\n",
              "      <th>KA</th>\n",
              "      <th>KL</th>\n",
              "      <th>LA</th>\n",
              "      <th>LD</th>\n",
              "      <th>MP</th>\n",
              "      <th>MH</th>\n",
              "      <th>MN</th>\n",
              "      <th>ML</th>\n",
              "      <th>MZ</th>\n",
              "      <th>NL</th>\n",
              "      <th>OR</th>\n",
              "      <th>PY</th>\n",
              "      <th>PB</th>\n",
              "      <th>RJ</th>\n",
              "      <th>SK</th>\n",
              "      <th>TN</th>\n",
              "      <th>TG</th>\n",
              "      <th>TR</th>\n",
              "      <th>UP</th>\n",
              "      <th>UT</th>\n",
              "      <th>WB</th>\n",
              "      <th>UN</th>\n",
              "    </tr>\n",
              "  </thead>\n",
              "  <tbody>\n",
              "    <tr>\n",
              "      <th>193</th>\n",
              "      <td>04-Jun-21</td>\n",
              "      <td>2021-06-04</td>\n",
              "      <td>Recovered</td>\n",
              "      <td>197763</td>\n",
              "      <td>32</td>\n",
              "      <td>15469</td>\n",
              "      <td>415</td>\n",
              "      <td>4263</td>\n",
              "      <td>2090</td>\n",
              "      <td>215</td>\n",
              "      <td>3838</td>\n",
              "      <td>47</td>\n",
              "      <td>0</td>\n",
              "      <td>1161</td>\n",
              "      <td>1160</td>\n",
              "      <td>3398</td>\n",
              "      <td>2456</td>\n",
              "      <td>2030</td>\n",
              "      <td>2731</td>\n",
              "      <td>1170</td>\n",
              "      <td>22316</td>\n",
              "      <td>25860</td>\n",
              "      <td>272</td>\n",
              "      <td>234</td>\n",
              "      <td>2045</td>\n",
              "      <td>20852</td>\n",
              "      <td>592</td>\n",
              "      <td>808</td>\n",
              "      <td>214</td>\n",
              "      <td>148</td>\n",
              "      <td>11347</td>\n",
              "      <td>1215</td>\n",
              "      <td>4314</td>\n",
              "      <td>4370</td>\n",
              "      <td>262</td>\n",
              "      <td>33646</td>\n",
              "      <td>3821</td>\n",
              "      <td>763</td>\n",
              "      <td>3646</td>\n",
              "      <td>4006</td>\n",
              "      <td>16557</td>\n",
              "      <td>0</td>\n",
              "    </tr>\n",
              "    <tr>\n",
              "      <th>194</th>\n",
              "      <td>04-Jun-21</td>\n",
              "      <td>2021-06-04</td>\n",
              "      <td>Deceased</td>\n",
              "      <td>3372</td>\n",
              "      <td>2</td>\n",
              "      <td>83</td>\n",
              "      <td>3</td>\n",
              "      <td>54</td>\n",
              "      <td>23</td>\n",
              "      <td>3</td>\n",
              "      <td>23</td>\n",
              "      <td>0</td>\n",
              "      <td>0</td>\n",
              "      <td>50</td>\n",
              "      <td>17</td>\n",
              "      <td>16</td>\n",
              "      <td>73</td>\n",
              "      <td>27</td>\n",
              "      <td>34</td>\n",
              "      <td>13</td>\n",
              "      <td>364</td>\n",
              "      <td>135</td>\n",
              "      <td>1</td>\n",
              "      <td>1</td>\n",
              "      <td>50</td>\n",
              "      <td>1377</td>\n",
              "      <td>14</td>\n",
              "      <td>18</td>\n",
              "      <td>2</td>\n",
              "      <td>12</td>\n",
              "      <td>39</td>\n",
              "      <td>18</td>\n",
              "      <td>87</td>\n",
              "      <td>40</td>\n",
              "      <td>3</td>\n",
              "      <td>463</td>\n",
              "      <td>15</td>\n",
              "      <td>5</td>\n",
              "      <td>136</td>\n",
              "      <td>58</td>\n",
              "      <td>113</td>\n",
              "      <td>0</td>\n",
              "    </tr>\n",
              "    <tr>\n",
              "      <th>195</th>\n",
              "      <td>05-Jun-21</td>\n",
              "      <td>2021-06-05</td>\n",
              "      <td>Confirmed</td>\n",
              "      <td>114486</td>\n",
              "      <td>17</td>\n",
              "      <td>10373</td>\n",
              "      <td>327</td>\n",
              "      <td>3781</td>\n",
              "      <td>1007</td>\n",
              "      <td>98</td>\n",
              "      <td>1356</td>\n",
              "      <td>12</td>\n",
              "      <td>0</td>\n",
              "      <td>414</td>\n",
              "      <td>567</td>\n",
              "      <td>996</td>\n",
              "      <td>723</td>\n",
              "      <td>818</td>\n",
              "      <td>1448</td>\n",
              "      <td>517</td>\n",
              "      <td>13800</td>\n",
              "      <td>17328</td>\n",
              "      <td>71</td>\n",
              "      <td>99</td>\n",
              "      <td>718</td>\n",
              "      <td>13659</td>\n",
              "      <td>717</td>\n",
              "      <td>497</td>\n",
              "      <td>236</td>\n",
              "      <td>309</td>\n",
              "      <td>7395</td>\n",
              "      <td>613</td>\n",
              "      <td>1878</td>\n",
              "      <td>942</td>\n",
              "      <td>253</td>\n",
              "      <td>21410</td>\n",
              "      <td>2070</td>\n",
              "      <td>708</td>\n",
              "      <td>1028</td>\n",
              "      <td>619</td>\n",
              "      <td>7682</td>\n",
              "      <td>0</td>\n",
              "    </tr>\n",
              "    <tr>\n",
              "      <th>196</th>\n",
              "      <td>05-Jun-21</td>\n",
              "      <td>2021-06-05</td>\n",
              "      <td>Recovered</td>\n",
              "      <td>189343</td>\n",
              "      <td>24</td>\n",
              "      <td>15958</td>\n",
              "      <td>402</td>\n",
              "      <td>3099</td>\n",
              "      <td>1667</td>\n",
              "      <td>175</td>\n",
              "      <td>3408</td>\n",
              "      <td>10</td>\n",
              "      <td>0</td>\n",
              "      <td>1683</td>\n",
              "      <td>1433</td>\n",
              "      <td>3004</td>\n",
              "      <td>1744</td>\n",
              "      <td>1102</td>\n",
              "      <td>2615</td>\n",
              "      <td>1098</td>\n",
              "      <td>25346</td>\n",
              "      <td>24003</td>\n",
              "      <td>254</td>\n",
              "      <td>143</td>\n",
              "      <td>2225</td>\n",
              "      <td>21776</td>\n",
              "      <td>740</td>\n",
              "      <td>801</td>\n",
              "      <td>335</td>\n",
              "      <td>177</td>\n",
              "      <td>7616</td>\n",
              "      <td>1312</td>\n",
              "      <td>3619</td>\n",
              "      <td>3364</td>\n",
              "      <td>283</td>\n",
              "      <td>32472</td>\n",
              "      <td>3762</td>\n",
              "      <td>670</td>\n",
              "      <td>4346</td>\n",
              "      <td>2531</td>\n",
              "      <td>16146</td>\n",
              "      <td>0</td>\n",
              "    </tr>\n",
              "    <tr>\n",
              "      <th>197</th>\n",
              "      <td>05-Jun-21</td>\n",
              "      <td>2021-06-05</td>\n",
              "      <td>Deceased</td>\n",
              "      <td>2682</td>\n",
              "      <td>1</td>\n",
              "      <td>80</td>\n",
              "      <td>1</td>\n",
              "      <td>44</td>\n",
              "      <td>21</td>\n",
              "      <td>3</td>\n",
              "      <td>30</td>\n",
              "      <td>0</td>\n",
              "      <td>0</td>\n",
              "      <td>60</td>\n",
              "      <td>17</td>\n",
              "      <td>15</td>\n",
              "      <td>59</td>\n",
              "      <td>19</td>\n",
              "      <td>25</td>\n",
              "      <td>12</td>\n",
              "      <td>365</td>\n",
              "      <td>209</td>\n",
              "      <td>1</td>\n",
              "      <td>2</td>\n",
              "      <td>38</td>\n",
              "      <td>741</td>\n",
              "      <td>9</td>\n",
              "      <td>9</td>\n",
              "      <td>4</td>\n",
              "      <td>6</td>\n",
              "      <td>40</td>\n",
              "      <td>12</td>\n",
              "      <td>82</td>\n",
              "      <td>32</td>\n",
              "      <td>2</td>\n",
              "      <td>443</td>\n",
              "      <td>18</td>\n",
              "      <td>11</td>\n",
              "      <td>120</td>\n",
              "      <td>33</td>\n",
              "      <td>118</td>\n",
              "      <td>0</td>\n",
              "    </tr>\n",
              "  </tbody>\n",
              "</table>\n",
              "</div>"
            ],
            "text/plain": [
              "          Date    Date_YMD     Status      TT  AN  ...   TR    UP    UT     WB  UN\n",
              "193  04-Jun-21  2021-06-04  Recovered  197763  32  ...  763  3646  4006  16557   0\n",
              "194  04-Jun-21  2021-06-04   Deceased    3372   2  ...    5   136    58    113   0\n",
              "195  05-Jun-21  2021-06-05  Confirmed  114486  17  ...  708  1028   619   7682   0\n",
              "196  05-Jun-21  2021-06-05  Recovered  189343  24  ...  670  4346  2531  16146   0\n",
              "197  05-Jun-21  2021-06-05   Deceased    2682   1  ...   11   120    33    118   0\n",
              "\n",
              "[5 rows x 42 columns]"
            ]
          },
          "metadata": {},
          "execution_count": 30
        }
      ]
    },
    {
      "cell_type": "code",
      "metadata": {
        "colab": {
          "base_uri": "https://localhost:8080/",
          "height": 315
        },
        "id": "Nzx8tH2fqR2S",
        "outputId": "9b87b00f-a1a1-4278-a7f6-af3f176ee6f9"
      },
      "source": [
        "df.describe()"
      ],
      "execution_count": 31,
      "outputs": [
        {
          "output_type": "execute_result",
          "data": {
            "text/html": [
              "<div>\n",
              "<style scoped>\n",
              "    .dataframe tbody tr th:only-of-type {\n",
              "        vertical-align: middle;\n",
              "    }\n",
              "\n",
              "    .dataframe tbody tr th {\n",
              "        vertical-align: top;\n",
              "    }\n",
              "\n",
              "    .dataframe thead th {\n",
              "        text-align: right;\n",
              "    }\n",
              "</style>\n",
              "<table border=\"1\" class=\"dataframe\">\n",
              "  <thead>\n",
              "    <tr style=\"text-align: right;\">\n",
              "      <th></th>\n",
              "      <th>TT</th>\n",
              "      <th>AN</th>\n",
              "      <th>AP</th>\n",
              "      <th>AR</th>\n",
              "      <th>AS</th>\n",
              "      <th>BR</th>\n",
              "      <th>CH</th>\n",
              "      <th>CT</th>\n",
              "      <th>DN</th>\n",
              "      <th>DD</th>\n",
              "      <th>DL</th>\n",
              "      <th>GA</th>\n",
              "      <th>GJ</th>\n",
              "      <th>HR</th>\n",
              "      <th>HP</th>\n",
              "      <th>JK</th>\n",
              "      <th>JH</th>\n",
              "      <th>KA</th>\n",
              "      <th>KL</th>\n",
              "      <th>LA</th>\n",
              "      <th>LD</th>\n",
              "      <th>MP</th>\n",
              "      <th>MH</th>\n",
              "      <th>MN</th>\n",
              "      <th>ML</th>\n",
              "      <th>MZ</th>\n",
              "      <th>NL</th>\n",
              "      <th>OR</th>\n",
              "      <th>PY</th>\n",
              "      <th>PB</th>\n",
              "      <th>RJ</th>\n",
              "      <th>SK</th>\n",
              "      <th>TN</th>\n",
              "      <th>TG</th>\n",
              "      <th>TR</th>\n",
              "      <th>UP</th>\n",
              "      <th>UT</th>\n",
              "      <th>WB</th>\n",
              "      <th>UN</th>\n",
              "    </tr>\n",
              "  </thead>\n",
              "  <tbody>\n",
              "    <tr>\n",
              "      <th>count</th>\n",
              "      <td>198.000000</td>\n",
              "      <td>198.000000</td>\n",
              "      <td>198.000000</td>\n",
              "      <td>198.000000</td>\n",
              "      <td>198.000000</td>\n",
              "      <td>198.000000</td>\n",
              "      <td>198.000000</td>\n",
              "      <td>198.000000</td>\n",
              "      <td>198.000000</td>\n",
              "      <td>198.0</td>\n",
              "      <td>198.000000</td>\n",
              "      <td>198.000000</td>\n",
              "      <td>198.000000</td>\n",
              "      <td>198.000000</td>\n",
              "      <td>198.000000</td>\n",
              "      <td>198.000000</td>\n",
              "      <td>198.000000</td>\n",
              "      <td>198.000000</td>\n",
              "      <td>198.000000</td>\n",
              "      <td>198.000000</td>\n",
              "      <td>198.000000</td>\n",
              "      <td>198.000000</td>\n",
              "      <td>198.000000</td>\n",
              "      <td>198.000000</td>\n",
              "      <td>198.000000</td>\n",
              "      <td>198.000000</td>\n",
              "      <td>198.000000</td>\n",
              "      <td>198.000000</td>\n",
              "      <td>198.000000</td>\n",
              "      <td>198.000000</td>\n",
              "      <td>198.000000</td>\n",
              "      <td>198.000000</td>\n",
              "      <td>198.000000</td>\n",
              "      <td>198.000000</td>\n",
              "      <td>198.000000</td>\n",
              "      <td>198.000000</td>\n",
              "      <td>198.000000</td>\n",
              "      <td>198.000000</td>\n",
              "      <td>198.0</td>\n",
              "    </tr>\n",
              "    <tr>\n",
              "      <th>mean</th>\n",
              "      <td>163008.702020</td>\n",
              "      <td>20.111111</td>\n",
              "      <td>7949.383838</td>\n",
              "      <td>104.989899</td>\n",
              "      <td>1907.656566</td>\n",
              "      <td>4471.171717</td>\n",
              "      <td>349.318182</td>\n",
              "      <td>6370.767677</td>\n",
              "      <td>67.166667</td>\n",
              "      <td>0.0</td>\n",
              "      <td>7752.388889</td>\n",
              "      <td>986.070707</td>\n",
              "      <td>5090.398990</td>\n",
              "      <td>4754.676768</td>\n",
              "      <td>1291.696970</td>\n",
              "      <td>1567.111111</td>\n",
              "      <td>2171.883838</td>\n",
              "      <td>15821.166667</td>\n",
              "      <td>14367.777778</td>\n",
              "      <td>86.191919</td>\n",
              "      <td>74.459596</td>\n",
              "      <td>4967.939394</td>\n",
              "      <td>31208.151515</td>\n",
              "      <td>207.414141</td>\n",
              "      <td>215.060606</td>\n",
              "      <td>73.661616</td>\n",
              "      <td>78.388889</td>\n",
              "      <td>4349.166667</td>\n",
              "      <td>637.540404</td>\n",
              "      <td>3413.656566</td>\n",
              "      <td>6119.691919</td>\n",
              "      <td>84.686869</td>\n",
              "      <td>12215.626263</td>\n",
              "      <td>2724.479798</td>\n",
              "      <td>180.904040</td>\n",
              "      <td>10862.252525</td>\n",
              "      <td>2254.762626</td>\n",
              "      <td>8210.929293</td>\n",
              "      <td>0.0</td>\n",
              "    </tr>\n",
              "    <tr>\n",
              "      <th>std</th>\n",
              "      <td>143351.895596</td>\n",
              "      <td>19.812004</td>\n",
              "      <td>8464.060626</td>\n",
              "      <td>137.572795</td>\n",
              "      <td>2211.703841</td>\n",
              "      <td>5090.176379</td>\n",
              "      <td>309.542900</td>\n",
              "      <td>6061.530046</td>\n",
              "      <td>83.577421</td>\n",
              "      <td>0.0</td>\n",
              "      <td>8934.356702</td>\n",
              "      <td>1108.958081</td>\n",
              "      <td>5122.329497</td>\n",
              "      <td>5177.594557</td>\n",
              "      <td>1428.399278</td>\n",
              "      <td>1628.184697</td>\n",
              "      <td>2360.264504</td>\n",
              "      <td>16902.944550</td>\n",
              "      <td>15917.991470</td>\n",
              "      <td>83.805392</td>\n",
              "      <td>90.970157</td>\n",
              "      <td>4883.639153</td>\n",
              "      <td>25540.828503</td>\n",
              "      <td>287.018739</td>\n",
              "      <td>290.509628</td>\n",
              "      <td>91.354620</td>\n",
              "      <td>103.765771</td>\n",
              "      <td>4608.129254</td>\n",
              "      <td>659.762406</td>\n",
              "      <td>2886.203037</td>\n",
              "      <td>6897.553771</td>\n",
              "      <td>110.224012</td>\n",
              "      <td>12402.559395</td>\n",
              "      <td>2861.220260</td>\n",
              "      <td>279.035569</td>\n",
              "      <td>12647.209650</td>\n",
              "      <td>2538.127158</td>\n",
              "      <td>8085.030068</td>\n",
              "      <td>0.0</td>\n",
              "    </tr>\n",
              "    <tr>\n",
              "      <th>min</th>\n",
              "      <td>446.000000</td>\n",
              "      <td>0.000000</td>\n",
              "      <td>3.000000</td>\n",
              "      <td>0.000000</td>\n",
              "      <td>0.000000</td>\n",
              "      <td>1.000000</td>\n",
              "      <td>1.000000</td>\n",
              "      <td>22.000000</td>\n",
              "      <td>0.000000</td>\n",
              "      <td>0.0</td>\n",
              "      <td>9.000000</td>\n",
              "      <td>1.000000</td>\n",
              "      <td>9.000000</td>\n",
              "      <td>7.000000</td>\n",
              "      <td>0.000000</td>\n",
              "      <td>0.000000</td>\n",
              "      <td>1.000000</td>\n",
              "      <td>6.000000</td>\n",
              "      <td>10.000000</td>\n",
              "      <td>0.000000</td>\n",
              "      <td>0.000000</td>\n",
              "      <td>11.000000</td>\n",
              "      <td>155.000000</td>\n",
              "      <td>0.000000</td>\n",
              "      <td>0.000000</td>\n",
              "      <td>0.000000</td>\n",
              "      <td>0.000000</td>\n",
              "      <td>0.000000</td>\n",
              "      <td>0.000000</td>\n",
              "      <td>49.000000</td>\n",
              "      <td>2.000000</td>\n",
              "      <td>0.000000</td>\n",
              "      <td>11.000000</td>\n",
              "      <td>4.000000</td>\n",
              "      <td>0.000000</td>\n",
              "      <td>9.000000</td>\n",
              "      <td>2.000000</td>\n",
              "      <td>2.000000</td>\n",
              "      <td>0.0</td>\n",
              "    </tr>\n",
              "    <tr>\n",
              "      <th>25%</th>\n",
              "      <td>3881.500000</td>\n",
              "      <td>1.000000</td>\n",
              "      <td>98.000000</td>\n",
              "      <td>1.000000</td>\n",
              "      <td>52.500000</td>\n",
              "      <td>89.000000</td>\n",
              "      <td>9.000000</td>\n",
              "      <td>199.000000</td>\n",
              "      <td>0.000000</td>\n",
              "      <td>0.0</td>\n",
              "      <td>335.500000</td>\n",
              "      <td>45.250000</td>\n",
              "      <td>121.500000</td>\n",
              "      <td>131.500000</td>\n",
              "      <td>56.000000</td>\n",
              "      <td>52.000000</td>\n",
              "      <td>106.500000</td>\n",
              "      <td>470.000000</td>\n",
              "      <td>129.750000</td>\n",
              "      <td>1.250000</td>\n",
              "      <td>1.000000</td>\n",
              "      <td>88.000000</td>\n",
              "      <td>885.750000</td>\n",
              "      <td>7.000000</td>\n",
              "      <td>6.000000</td>\n",
              "      <td>1.000000</td>\n",
              "      <td>2.000000</td>\n",
              "      <td>25.250000</td>\n",
              "      <td>23.000000</td>\n",
              "      <td>180.000000</td>\n",
              "      <td>154.250000</td>\n",
              "      <td>2.000000</td>\n",
              "      <td>398.750000</td>\n",
              "      <td>33.000000</td>\n",
              "      <td>2.000000</td>\n",
              "      <td>280.250000</td>\n",
              "      <td>118.000000</td>\n",
              "      <td>138.250000</td>\n",
              "      <td>0.0</td>\n",
              "    </tr>\n",
              "    <tr>\n",
              "      <th>50%</th>\n",
              "      <td>148755.000000</td>\n",
              "      <td>16.000000</td>\n",
              "      <td>3743.500000</td>\n",
              "      <td>11.500000</td>\n",
              "      <td>391.500000</td>\n",
              "      <td>1828.500000</td>\n",
              "      <td>358.500000</td>\n",
              "      <td>4773.500000</td>\n",
              "      <td>27.000000</td>\n",
              "      <td>0.0</td>\n",
              "      <td>3297.000000</td>\n",
              "      <td>529.000000</td>\n",
              "      <td>3173.500000</td>\n",
              "      <td>2580.500000</td>\n",
              "      <td>787.500000</td>\n",
              "      <td>953.500000</td>\n",
              "      <td>1240.500000</td>\n",
              "      <td>8326.000000</td>\n",
              "      <td>6282.000000</td>\n",
              "      <td>91.000000</td>\n",
              "      <td>18.000000</td>\n",
              "      <td>3527.500000</td>\n",
              "      <td>32302.500000</td>\n",
              "      <td>21.500000</td>\n",
              "      <td>41.500000</td>\n",
              "      <td>24.500000</td>\n",
              "      <td>13.000000</td>\n",
              "      <td>1896.500000</td>\n",
              "      <td>398.000000</td>\n",
              "      <td>3125.000000</td>\n",
              "      <td>2812.000000</td>\n",
              "      <td>16.000000</td>\n",
              "      <td>7027.500000</td>\n",
              "      <td>2225.500000</td>\n",
              "      <td>27.500000</td>\n",
              "      <td>4241.000000</td>\n",
              "      <td>1041.500000</td>\n",
              "      <td>5216.500000</td>\n",
              "      <td>0.0</td>\n",
              "    </tr>\n",
              "    <tr>\n",
              "      <th>75%</th>\n",
              "      <td>298214.500000</td>\n",
              "      <td>32.750000</td>\n",
              "      <td>16114.750000</td>\n",
              "      <td>205.000000</td>\n",
              "      <td>4072.750000</td>\n",
              "      <td>8534.750000</td>\n",
              "      <td>616.500000</td>\n",
              "      <td>12228.750000</td>\n",
              "      <td>107.500000</td>\n",
              "      <td>0.0</td>\n",
              "      <td>14122.750000</td>\n",
              "      <td>1624.000000</td>\n",
              "      <td>9482.000000</td>\n",
              "      <td>8963.500000</td>\n",
              "      <td>2164.500000</td>\n",
              "      <td>3016.000000</td>\n",
              "      <td>4092.250000</td>\n",
              "      <td>29396.250000</td>\n",
              "      <td>27946.750000</td>\n",
              "      <td>140.000000</td>\n",
              "      <td>133.250000</td>\n",
              "      <td>9697.000000</td>\n",
              "      <td>55454.500000</td>\n",
              "      <td>393.000000</td>\n",
              "      <td>345.000000</td>\n",
              "      <td>137.750000</td>\n",
              "      <td>144.500000</td>\n",
              "      <td>8721.500000</td>\n",
              "      <td>1172.250000</td>\n",
              "      <td>5689.250000</td>\n",
              "      <td>11962.500000</td>\n",
              "      <td>169.750000</td>\n",
              "      <td>22995.250000</td>\n",
              "      <td>4693.000000</td>\n",
              "      <td>264.250000</td>\n",
              "      <td>21234.750000</td>\n",
              "      <td>4308.000000</td>\n",
              "      <td>17478.750000</td>\n",
              "      <td>0.0</td>\n",
              "    </tr>\n",
              "    <tr>\n",
              "      <th>max</th>\n",
              "      <td>422391.000000</td>\n",
              "      <td>97.000000</td>\n",
              "      <td>24819.000000</td>\n",
              "      <td>497.000000</td>\n",
              "      <td>6573.000000</td>\n",
              "      <td>15853.000000</td>\n",
              "      <td>963.000000</td>\n",
              "      <td>18746.000000</td>\n",
              "      <td>359.000000</td>\n",
              "      <td>0.0</td>\n",
              "      <td>28395.000000</td>\n",
              "      <td>4195.000000</td>\n",
              "      <td>15365.000000</td>\n",
              "      <td>16192.000000</td>\n",
              "      <td>5424.000000</td>\n",
              "      <td>5443.000000</td>\n",
              "      <td>8331.000000</td>\n",
              "      <td>61766.000000</td>\n",
              "      <td>99651.000000</td>\n",
              "      <td>362.000000</td>\n",
              "      <td>483.000000</td>\n",
              "      <td>14562.000000</td>\n",
              "      <td>82266.000000</td>\n",
              "      <td>1247.000000</td>\n",
              "      <td>1183.000000</td>\n",
              "      <td>335.000000</td>\n",
              "      <td>373.000000</td>\n",
              "      <td>12852.000000</td>\n",
              "      <td>2049.000000</td>\n",
              "      <td>9059.000000</td>\n",
              "      <td>29459.000000</td>\n",
              "      <td>420.000000</td>\n",
              "      <td>36184.000000</td>\n",
              "      <td>17183.000000</td>\n",
              "      <td>1066.000000</td>\n",
              "      <td>40852.000000</td>\n",
              "      <td>9642.000000</td>\n",
              "      <td>20846.000000</td>\n",
              "      <td>0.0</td>\n",
              "    </tr>\n",
              "  </tbody>\n",
              "</table>\n",
              "</div>"
            ],
            "text/plain": [
              "                  TT          AN  ...            WB     UN\n",
              "count     198.000000  198.000000  ...    198.000000  198.0\n",
              "mean   163008.702020   20.111111  ...   8210.929293    0.0\n",
              "std    143351.895596   19.812004  ...   8085.030068    0.0\n",
              "min       446.000000    0.000000  ...      2.000000    0.0\n",
              "25%      3881.500000    1.000000  ...    138.250000    0.0\n",
              "50%    148755.000000   16.000000  ...   5216.500000    0.0\n",
              "75%    298214.500000   32.750000  ...  17478.750000    0.0\n",
              "max    422391.000000   97.000000  ...  20846.000000    0.0\n",
              "\n",
              "[8 rows x 39 columns]"
            ]
          },
          "metadata": {},
          "execution_count": 31
        }
      ]
    },
    {
      "cell_type": "code",
      "metadata": {
        "colab": {
          "base_uri": "https://localhost:8080/"
        },
        "id": "IuacOV_EqYfC",
        "outputId": "f51b8605-7a64-431f-be6a-9de96119fa1e"
      },
      "source": [
        "df['Confirmed']=df['TT']\n",
        "df.reset_index(drop=True, inplace=True)\n",
        "\n",
        "df.sum(axis=0)\n",
        "df.Confirmed.mean()"
      ],
      "execution_count": 32,
      "outputs": [
        {
          "output_type": "execute_result",
          "data": {
            "text/plain": [
              "163008.702020202"
            ]
          },
          "metadata": {},
          "execution_count": 32
        }
      ]
    },
    {
      "cell_type": "code",
      "metadata": {
        "id": "vWwcTAClqqy2"
      },
      "source": [
        "df=df[df.Status=='Confirmed']\n"
      ],
      "execution_count": 33,
      "outputs": []
    },
    {
      "cell_type": "code",
      "metadata": {
        "id": "DLTYevikr3SR"
      },
      "source": [
        "columns=['Date', 'Confirmed']"
      ],
      "execution_count": 34,
      "outputs": []
    },
    {
      "cell_type": "code",
      "metadata": {
        "colab": {
          "base_uri": "https://localhost:8080/",
          "height": 203
        },
        "id": "SHgzAcgCr7V8",
        "outputId": "506f1b70-2606-4c57-bff9-d7414ec78856"
      },
      "source": [
        "df=df[columns]\n",
        "\n",
        "df.head()"
      ],
      "execution_count": 35,
      "outputs": [
        {
          "output_type": "execute_result",
          "data": {
            "text/html": [
              "<div>\n",
              "<style scoped>\n",
              "    .dataframe tbody tr th:only-of-type {\n",
              "        vertical-align: middle;\n",
              "    }\n",
              "\n",
              "    .dataframe tbody tr th {\n",
              "        vertical-align: top;\n",
              "    }\n",
              "\n",
              "    .dataframe thead th {\n",
              "        text-align: right;\n",
              "    }\n",
              "</style>\n",
              "<table border=\"1\" class=\"dataframe\">\n",
              "  <thead>\n",
              "    <tr style=\"text-align: right;\">\n",
              "      <th></th>\n",
              "      <th>Date</th>\n",
              "      <th>Confirmed</th>\n",
              "    </tr>\n",
              "  </thead>\n",
              "  <tbody>\n",
              "    <tr>\n",
              "      <th>0</th>\n",
              "      <td>01-Apr-21</td>\n",
              "      <td>81398</td>\n",
              "    </tr>\n",
              "    <tr>\n",
              "      <th>3</th>\n",
              "      <td>02-Apr-21</td>\n",
              "      <td>89023</td>\n",
              "    </tr>\n",
              "    <tr>\n",
              "      <th>6</th>\n",
              "      <td>03-Apr-21</td>\n",
              "      <td>92994</td>\n",
              "    </tr>\n",
              "    <tr>\n",
              "      <th>9</th>\n",
              "      <td>04-Apr-21</td>\n",
              "      <td>103794</td>\n",
              "    </tr>\n",
              "    <tr>\n",
              "      <th>12</th>\n",
              "      <td>05-Apr-21</td>\n",
              "      <td>96563</td>\n",
              "    </tr>\n",
              "  </tbody>\n",
              "</table>\n",
              "</div>"
            ],
            "text/plain": [
              "         Date  Confirmed\n",
              "0   01-Apr-21      81398\n",
              "3   02-Apr-21      89023\n",
              "6   03-Apr-21      92994\n",
              "9   04-Apr-21     103794\n",
              "12  05-Apr-21      96563"
            ]
          },
          "metadata": {},
          "execution_count": 35
        }
      ]
    },
    {
      "cell_type": "code",
      "metadata": {
        "colab": {
          "base_uri": "https://localhost:8080/",
          "height": 447
        },
        "id": "HSrlkngMr_yB",
        "outputId": "053582a0-72c7-4e2d-a10d-fe187dfb89dd"
      },
      "source": [
        "df.groupby('Date').mean()"
      ],
      "execution_count": 36,
      "outputs": [
        {
          "output_type": "execute_result",
          "data": {
            "text/html": [
              "<div>\n",
              "<style scoped>\n",
              "    .dataframe tbody tr th:only-of-type {\n",
              "        vertical-align: middle;\n",
              "    }\n",
              "\n",
              "    .dataframe tbody tr th {\n",
              "        vertical-align: top;\n",
              "    }\n",
              "\n",
              "    .dataframe thead th {\n",
              "        text-align: right;\n",
              "    }\n",
              "</style>\n",
              "<table border=\"1\" class=\"dataframe\">\n",
              "  <thead>\n",
              "    <tr style=\"text-align: right;\">\n",
              "      <th></th>\n",
              "      <th>Confirmed</th>\n",
              "    </tr>\n",
              "    <tr>\n",
              "      <th>Date</th>\n",
              "      <th></th>\n",
              "    </tr>\n",
              "  </thead>\n",
              "  <tbody>\n",
              "    <tr>\n",
              "      <th>01-Apr-21</th>\n",
              "      <td>81398</td>\n",
              "    </tr>\n",
              "    <tr>\n",
              "      <th>01-Jun-21</th>\n",
              "      <td>133152</td>\n",
              "    </tr>\n",
              "    <tr>\n",
              "      <th>01-May-21</th>\n",
              "      <td>392576</td>\n",
              "    </tr>\n",
              "    <tr>\n",
              "      <th>02-Apr-21</th>\n",
              "      <td>89023</td>\n",
              "    </tr>\n",
              "    <tr>\n",
              "      <th>02-Jun-21</th>\n",
              "      <td>134044</td>\n",
              "    </tr>\n",
              "    <tr>\n",
              "      <th>...</th>\n",
              "      <td>...</td>\n",
              "    </tr>\n",
              "    <tr>\n",
              "      <th>29-Apr-21</th>\n",
              "      <td>386773</td>\n",
              "    </tr>\n",
              "    <tr>\n",
              "      <th>29-May-21</th>\n",
              "      <td>165282</td>\n",
              "    </tr>\n",
              "    <tr>\n",
              "      <th>30-Apr-21</th>\n",
              "      <td>402014</td>\n",
              "    </tr>\n",
              "    <tr>\n",
              "      <th>30-May-21</th>\n",
              "      <td>153396</td>\n",
              "    </tr>\n",
              "    <tr>\n",
              "      <th>31-May-21</th>\n",
              "      <td>126883</td>\n",
              "    </tr>\n",
              "  </tbody>\n",
              "</table>\n",
              "<p>66 rows × 1 columns</p>\n",
              "</div>"
            ],
            "text/plain": [
              "           Confirmed\n",
              "Date                \n",
              "01-Apr-21      81398\n",
              "01-Jun-21     133152\n",
              "01-May-21     392576\n",
              "02-Apr-21      89023\n",
              "02-Jun-21     134044\n",
              "...              ...\n",
              "29-Apr-21     386773\n",
              "29-May-21     165282\n",
              "30-Apr-21     402014\n",
              "30-May-21     153396\n",
              "31-May-21     126883\n",
              "\n",
              "[66 rows x 1 columns]"
            ]
          },
          "metadata": {},
          "execution_count": 36
        }
      ]
    },
    {
      "cell_type": "code",
      "metadata": {
        "id": "Ma86Le1XsGZi"
      },
      "source": [
        "df['Date']=pd.to_datetime(df['Date'])\n",
        "df['Date']=df['Date'].map(dt.datetime.toordinal)\n"
      ],
      "execution_count": 37,
      "outputs": []
    },
    {
      "cell_type": "code",
      "metadata": {
        "id": "qRQs7wXBsMep"
      },
      "source": [
        "x=df['Date']\n",
        "y=df['Confirmed']\n",
        "x.reset_index(drop=True, inplace=True)\n",
        "y.reset_index(drop=True, inplace=True)\n"
      ],
      "execution_count": 38,
      "outputs": []
    },
    {
      "cell_type": "code",
      "metadata": {
        "id": "S4fqr5R7sPcO"
      },
      "source": [
        "l=len(x)\n",
        "x[l]=predictdate\n",
        "x=np.array(x).reshape(-1,1)\n",
        "y=np.array(y).reshape(-1,1)"
      ],
      "execution_count": 39,
      "outputs": []
    },
    {
      "cell_type": "code",
      "metadata": {
        "id": "zBapfYyasS2h"
      },
      "source": [
        "sc=StandardScaler()\n",
        "fX=sc.fit_transform(x)\n",
        "fY=sc.fit_transform(y)"
      ],
      "execution_count": 54,
      "outputs": []
    },
    {
      "cell_type": "code",
      "metadata": {
        "colab": {
          "base_uri": "https://localhost:8080/"
        },
        "id": "7AZsEZOSsUIf",
        "outputId": "0f1fdd03-c7fd-4b0c-ba6a-335aaecded8a"
      },
      "source": [
        "ans=fX[len(fX)-1][0]\n",
        "fX=fX[:len(fX)-1]\n",
        "\n",
        "model=SVR(kernel='rbf')\n",
        "model.fit(fX,fY.ravel())"
      ],
      "execution_count": 55,
      "outputs": [
        {
          "output_type": "execute_result",
          "data": {
            "text/plain": [
              "SVR()"
            ]
          },
          "metadata": {},
          "execution_count": 55
        }
      ]
    },
    {
      "cell_type": "code",
      "metadata": {
        "id": "aNOgBey8sXj5"
      },
      "source": [
        "pred=model.predict(fX)\n",
        "pred=sc.inverse_transform([pred])\n"
      ],
      "execution_count": 59,
      "outputs": []
    },
    {
      "cell_type": "code",
      "metadata": {
        "id": "CkeRJwi8wMj-"
      },
      "source": [
        "pred=np.array(pred).reshape(-1,1)"
      ],
      "execution_count": 60,
      "outputs": []
    },
    {
      "cell_type": "code",
      "metadata": {
        "colab": {
          "base_uri": "https://localhost:8080/"
        },
        "id": "gBjNXXLuwPVF",
        "outputId": "434c11e3-ecfe-4e3f-eb18-49feffaeda64"
      },
      "source": [
        "score=model.score(fX,fY)*100\n",
        "score"
      ],
      "execution_count": 63,
      "outputs": [
        {
          "output_type": "execute_result",
          "data": {
            "text/plain": [
              "98.04072724406095"
            ]
          },
          "metadata": {},
          "execution_count": 63
        }
      ]
    },
    {
      "cell_type": "code",
      "metadata": {
        "colab": {
          "base_uri": "https://localhost:8080/"
        },
        "id": "CaApoPaZwZo-",
        "outputId": "25ff2b28-ec60-4786-973d-d0d425006584"
      },
      "source": [
        "ans=model.predict(np.array(ans).reshape(-1,1))\n",
        "ans=sc.inverse_transform([ans])\n",
        "st.write(\"Predicted cases \")\n",
        "result=int(ans[0])\n",
        "result"
      ],
      "execution_count": 65,
      "outputs": [
        {
          "output_type": "execute_result",
          "data": {
            "text/plain": [
              "318526"
            ]
          },
          "metadata": {},
          "execution_count": 65
        }
      ]
    },
    {
      "cell_type": "code",
      "metadata": {
        "colab": {
          "base_uri": "https://localhost:8080/",
          "height": 282
        },
        "id": "pZerCUhWwm2X",
        "outputId": "21941c05-e932-4d69-8131-83a7e3dd065d"
      },
      "source": [
        "fdf=pd.DataFrame(pred)\n",
        "fdf.plot()"
      ],
      "execution_count": 66,
      "outputs": [
        {
          "output_type": "execute_result",
          "data": {
            "text/plain": [
              "<matplotlib.axes._subplots.AxesSubplot at 0x7f20758168d0>"
            ]
          },
          "metadata": {},
          "execution_count": 66
        },
        {
          "output_type": "display_data",
          "data": {
            "image/png": "[encoded data removed]",
            "text/plain": [
              "<Figure size 432x288 with 1 Axes>"
            ]
          },
          "metadata": {
            "needs_background": "light"
          }
        }
      ]
    },
    {
      "cell_type": "code",
      "metadata": {
        "colab": {
          "base_uri": "https://localhost:8080/",
          "height": 296
        },
        "id": "geqkHFm5wrkf",
        "outputId": "26cb3278-a5c5-49b9-bf2d-f3bebbffef8e"
      },
      "source": [
        "df.plot.scatter(x='Date',y='Confirmed')"
      ],
      "execution_count": 67,
      "outputs": [
        {
          "output_type": "execute_result",
          "data": {
            "text/plain": [
              "<matplotlib.axes._subplots.AxesSubplot at 0x7f2075677710>"
            ]
          },
          "metadata": {},
          "execution_count": 67
        },
        {
          "output_type": "display_data",
          "data": {
            "image/png": "[encoded data removed]",
            "text/plain": [
              "<Figure size 432x288 with 1 Axes>"
            ]
          },
          "metadata": {
            "needs_background": "light"
          }
        }
      ]
    },
    {
      "cell_type": "code",
      "metadata": {
        "colab": {
          "base_uri": "https://localhost:8080/"
        },
        "id": "7YGWfqi8w2EQ",
        "outputId": "f866e9c1-499e-490e-adf6-c9e00fc0b224"
      },
      "source": [
        "st.write(\"Confirmed Cases\")\n",
        "st.line_chart(y)\n",
        "st.write(\"Prediction Graph\")\n",
        "st.line_chart(fdf)"
      ],
      "execution_count": 75,
      "outputs": [
        {
          "output_type": "execute_result",
          "data": {
            "text/plain": [
              "DeltaGenerator(_root_container=0, _provided_cursor=None, _parent=None, _block_type=None, _form_data=None)"
            ]
          },
          "metadata": {},
          "execution_count": 75
        }
      ]
    }
  ]
}